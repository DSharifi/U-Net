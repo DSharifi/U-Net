{
 "cells": [
  {
   "cell_type": "markdown",
   "id": "a6564d7b",
   "metadata": {},
   "source": [
    "# Analysis of trained U-Net models"
   ]
  },
  {
   "cell_type": "code",
   "execution_count": 1,
   "id": "62663140",
   "metadata": {},
   "outputs": [],
   "source": [
    "import os\n",
    "import glob\n",
    "import numpy as np\n",
    "from PIL import Image\n",
    "import matplotlib.pyplot as plt\n",
    "\n",
    "MODEL_PATH               = \"./best_model/CP_epoch7.pth\"\n",
    "\n",
    "TEST_IMAGES_X_PATH       = \"./data/ISBI2016_ISIC_Part1_Test_Data/\"\n",
    "TEST_IMAGES_Y_PATH       = \"./data/ISBI2016_ISIC_Part1_Test_GroundTruth/\"\n",
    "\n",
    "PREDICTIONS_PATH  = \"./analysis/predictions/\"\n",
    "\n",
    "PLOTS_TARGET_PATH        = \"./analysis/plots/\""
   ]
  },
  {
   "cell_type": "markdown",
   "id": "e1141cd2",
   "metadata": {},
   "source": [
    "## Helpers"
   ]
  },
  {
   "cell_type": "code",
   "execution_count": 2,
   "id": "1892c5e1",
   "metadata": {},
   "outputs": [],
   "source": [
    "def total_pixels(image):\n",
    "    width, height = image.size\n",
    "    return width * height"
   ]
  },
  {
   "cell_type": "markdown",
   "id": "de101e0b",
   "metadata": {
    "tags": []
   },
   "source": [
    "## Metric Functions\n",
    "\n",
    "Source: https://en.wikipedia.org/wiki/Sørensen–Dice_coefficient\n",
    "\n",
    "Sørensen–Dice coefficient is a measure of similarity of 2 images/sets. The set metric is defined as follows:\n",
    "\n",
    "${\\displaystyle DSC={\\frac {2|X\\cap Y|}{|X|+|Y|}}}$\n",
    "\n",
    "For boolean data (as in the binary blaack/white segmentation) the following Dice Score is commonly used:\n",
    "\n",
    "${\\displaystyle booleanDSC={\\frac {2TP}{2TP+FP+FN}}}$"
   ]
  },
  {
   "cell_type": "code",
   "execution_count": 3,
   "id": "d233f0c3",
   "metadata": {},
   "outputs": [],
   "source": [
    "def DSC(prediction, ground_truth) -> float:\n",
    "    \n",
    "    #assert prediction.shape() == ground_truth.shape()\n",
    "    \n",
    "    # intersection = 1,1 ; 0,0\n",
    "    # intersection = |set| - |xor|\n",
    "    intersection = total_pixels(prediction) - sum(np.logical_xor(prediction, ground_truth))\n",
    "\n",
    "    numerator   = 2 * intersection \n",
    "    denominator = total_pixels(prediction) + total_pixels(ground_truth)\n",
    "\n",
    "    return numerator / denominator\n",
    "\n",
    "\n",
    "def booleanDSC(prediction, ground_truth) -> float:\n",
    "    \n",
    "    # false_positives = 1,1\n",
    "    true_positives = sum(np.logical_and(prediction, ground_truth))\n",
    "    \n",
    "    # false_positives = 1,0\n",
    "    # false_negative  = 0,1\n",
    "    # XOR             = false_positives + false_negatives\n",
    "    xor = sum(np.logical_xor(prediction, ground_truth))\n",
    "\n",
    "\n",
    "    numerator   = 2 * true_positives \n",
    "    denominator = 2 * true_positives + xor\n",
    "    \n",
    "    \n",
    "    return numerator / denominator"
   ]
  },
  {
   "cell_type": "markdown",
   "id": "94ffe4f2",
   "metadata": {},
   "source": [
    "## Running Evaluations"
   ]
  },
  {
   "cell_type": "code",
   "execution_count": 34,
   "id": "dc97ed51",
   "metadata": {},
   "outputs": [
    {
     "name": "stdout",
     "output_type": "stream",
     "text": [
      "786432\n",
      "0\n",
      "(430, 322)\n",
      "(1024, 768)\n"
     ]
    },
    {
     "ename": "ValueError",
     "evalue": "operands could not be broadcast together with shapes (322,430,3) (786432,) ",
     "output_type": "error",
     "traceback": [
      "\u001b[0;31m---------------------------------------------------------------------------\u001b[0m",
      "\u001b[0;31mValueError\u001b[0m                                Traceback (most recent call last)",
      "\u001b[0;32m<ipython-input-34-404523e6c5ec>\u001b[0m in \u001b[0;36m<module>\u001b[0;34m\u001b[0m\n\u001b[1;32m     27\u001b[0m     \u001b[0mprint\u001b[0m\u001b[0;34m(\u001b[0m\u001b[0mtruth\u001b[0m\u001b[0;34m.\u001b[0m\u001b[0msize\u001b[0m\u001b[0;34m)\u001b[0m\u001b[0;34m\u001b[0m\u001b[0;34m\u001b[0m\u001b[0m\n\u001b[1;32m     28\u001b[0m \u001b[0;34m\u001b[0m\u001b[0m\n\u001b[0;32m---> 29\u001b[0;31m     \u001b[0mscores_DSC\u001b[0m\u001b[0;34m.\u001b[0m\u001b[0mappend\u001b[0m\u001b[0;34m(\u001b[0m\u001b[0mDSC\u001b[0m\u001b[0;34m(\u001b[0m\u001b[0mpred\u001b[0m\u001b[0;34m,\u001b[0m \u001b[0mtruth\u001b[0m\u001b[0;34m)\u001b[0m\u001b[0;34m)\u001b[0m\u001b[0;34m\u001b[0m\u001b[0;34m\u001b[0m\u001b[0m\n\u001b[0m\u001b[1;32m     30\u001b[0m     \u001b[0mscores_booleanDSC\u001b[0m\u001b[0;34m.\u001b[0m\u001b[0mappend\u001b[0m\u001b[0;34m(\u001b[0m\u001b[0mbooleanDSC\u001b[0m\u001b[0;34m(\u001b[0m\u001b[0mpred\u001b[0m\u001b[0;34m,\u001b[0m \u001b[0mtruth\u001b[0m\u001b[0;34m)\u001b[0m\u001b[0;34m)\u001b[0m\u001b[0;34m\u001b[0m\u001b[0;34m\u001b[0m\u001b[0m\n",
      "\u001b[0;32m<ipython-input-3-238a7efdd546>\u001b[0m in \u001b[0;36mDSC\u001b[0;34m(prediction, ground_truth)\u001b[0m\n\u001b[1;32m      5\u001b[0m     \u001b[0;31m# intersection = 1,1 ; 0,0\u001b[0m\u001b[0;34m\u001b[0m\u001b[0;34m\u001b[0m\u001b[0;34m\u001b[0m\u001b[0m\n\u001b[1;32m      6\u001b[0m     \u001b[0;31m# intersection = |set| - |xor|\u001b[0m\u001b[0;34m\u001b[0m\u001b[0;34m\u001b[0m\u001b[0;34m\u001b[0m\u001b[0m\n\u001b[0;32m----> 7\u001b[0;31m     \u001b[0mintersection\u001b[0m \u001b[0;34m=\u001b[0m \u001b[0mtotal_pixels\u001b[0m\u001b[0;34m(\u001b[0m\u001b[0mprediction\u001b[0m\u001b[0;34m)\u001b[0m \u001b[0;34m-\u001b[0m \u001b[0msum\u001b[0m\u001b[0;34m(\u001b[0m\u001b[0mnp\u001b[0m\u001b[0;34m.\u001b[0m\u001b[0mlogical_xor\u001b[0m\u001b[0;34m(\u001b[0m\u001b[0mprediction\u001b[0m\u001b[0;34m,\u001b[0m \u001b[0mground_truth\u001b[0m\u001b[0;34m)\u001b[0m\u001b[0;34m)\u001b[0m\u001b[0;34m\u001b[0m\u001b[0;34m\u001b[0m\u001b[0m\n\u001b[0m\u001b[1;32m      8\u001b[0m \u001b[0;34m\u001b[0m\u001b[0m\n\u001b[1;32m      9\u001b[0m     \u001b[0mnumerator\u001b[0m   \u001b[0;34m=\u001b[0m \u001b[0;36m2\u001b[0m \u001b[0;34m*\u001b[0m \u001b[0mintersection\u001b[0m\u001b[0;34m\u001b[0m\u001b[0;34m\u001b[0m\u001b[0m\n",
      "\u001b[0;31mValueError\u001b[0m: operands could not be broadcast together with shapes (322,430,3) (786432,) "
     ]
    }
   ],
   "source": [
    "scores_DSC = []\n",
    "scores_booleanDSC = []\n",
    "\n",
    "ground_truths = []\n",
    "predictions = []\n",
    "\n",
    "for pred_filename in glob.glob(PREDICTIONS_PATH + \"*\") :\n",
    "\n",
    "    pred = Image.open(pred_filename)\n",
    "    predictions.append(pred)\n",
    "\n",
    "for gt_filename in glob.glob(TEST_IMAGES_Y_PATH + \"*\") :\n",
    "\n",
    "    gt = Image.open(gt_filename)\n",
    "    ground_truths.append(gt)\n",
    "\n",
    "    \n",
    "\n",
    "\n",
    "for pred, truth in zip(predictions, ground_truths):\n",
    "    #pred, truth = pred.view(-1), truth.view(-1)\n",
    "    truth = truth.getdata()\n",
    "    print(int(len(truth)))\n",
    "\n",
    "    print(truth[int(len(truth) / 2) + 1])\n",
    "    print(pred.size)\n",
    "    print(truth.size)\n",
    "\n",
    "    scores_DSC.append(DSC(pred, truth))\n",
    "    scores_booleanDSC.append(booleanDSC(pred, truth))"
   ]
  },
  {
   "cell_type": "markdown",
   "id": "6290da90",
   "metadata": {},
   "source": [
    "## Plots and Insights"
   ]
  },
  {
   "cell_type": "code",
   "execution_count": 35,
   "id": "b50d1f7b",
   "metadata": {},
   "outputs": [
    {
     "data": {
      "text/plain": [
       "[1, 2]"
      ]
     },
     "execution_count": 35,
     "metadata": {},
     "output_type": "execute_result"
    }
   ],
   "source": []
  },
  {
   "cell_type": "code",
   "execution_count": null,
   "id": "e4e1e4df",
   "metadata": {},
   "outputs": [],
   "source": []
  }
 ],
 "metadata": {
  "interpreter": {
   "hash": "aee8b7b246df8f9039afb4144a1f6fd8d2ca17a180786b69acc140d282b71a49"
  },
  "kernelspec": {
   "display_name": "Python 3",
   "language": "python",
   "name": "python3"
  },
  "language_info": {
   "codemirror_mode": {
    "name": "ipython",
    "version": 3
   },
   "file_extension": ".py",
   "mimetype": "text/x-python",
   "name": "python",
   "nbconvert_exporter": "python",
   "pygments_lexer": "ipython3",
   "version": "3.8.8"
  }
 },
 "nbformat": 4,
 "nbformat_minor": 5
}
